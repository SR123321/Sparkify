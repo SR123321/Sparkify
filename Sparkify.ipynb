{
 "cells": [
  {
   "cell_type": "markdown",
   "metadata": {},
   "source": [
    "# Sparkify Project Workspace\n",
    "This workspace contains a tiny subset (128MB) of the full dataset available (12GB). Feel free to use this workspace to build your project, or to explore a smaller subset with Spark before deploying your cluster on the cloud. Instructions for setting up your Spark cluster is included in the last lesson of the Extracurricular Spark Course content.\n",
    "\n",
    "You can follow the steps below to guide your data analysis and model building portion of this project."
   ]
  },
  {
   "cell_type": "code",
   "execution_count": 1,
   "metadata": {},
   "outputs": [],
   "source": [
    "# import libraries\n",
    "from pyspark.sql import SparkSession\n",
    "from pyspark.sql.functions import avg, col, concat, desc, explode, lit, min, max, split, udf, count, when, isnull, collect_list\n",
    "from pyspark.sql.types import IntegerType, BooleanType, FloatType\n",
    "from pyspark.ml.feature import VectorAssembler, StandardScaler\n",
    "import pandas as pd\n",
    "import matplotlib.pyplot as plt\n",
    "%matplotlib inline\n",
    "from pyspark.ml import Pipeline\n",
    "from pyspark.ml.classification import LogisticRegression\n",
    "from pyspark.ml.evaluation import MulticlassClassificationEvaluator\n",
    "from pyspark.ml.feature import CountVectorizer, IDF, Normalizer, PCA, RegexTokenizer, StandardScaler, StopWordsRemover, StringIndexer, VectorAssembler\n",
    "from pyspark.ml.regression import LinearRegression\n",
    "from pyspark.ml.tuning import CrossValidator, ParamGridBuilder\n",
    "from pyspark.ml.feature import MinMaxScaler\n",
    "from pyspark.ml.feature import VectorAssembler\n",
    "from pyspark.ml.classification import LogisticRegression\n",
    "from pyspark.ml.evaluation import BinaryClassificationEvaluator\n",
    "from pyspark.mllib.tree import RandomForest, RandomForestModel\n",
    "from pyspark.ml.classification import RandomForestClassifier\n",
    "from pyspark.ml.classification import GBTClassifier\n",
    "import seaborn as sns\n"
   ]
  },
  {
   "cell_type": "code",
   "execution_count": 2,
   "metadata": {},
   "outputs": [],
   "source": [
    "# create a Spark session\n",
    "spark = SparkSession \\\n",
    "    .builder \\\n",
    "    .appName(\"Sparkify\") \\\n",
    "    .getOrCreate()"
   ]
  },
  {
   "cell_type": "markdown",
   "metadata": {},
   "source": [
    "# Load and Clean Dataset\n",
    "In this workspace, the mini-dataset file is `mini_sparkify_event_data.json`. Load and clean the dataset, checking for invalid or missing data - for example, records without userids or sessionids. "
   ]
  },
  {
   "cell_type": "code",
   "execution_count": 3,
   "metadata": {},
   "outputs": [
    {
     "data": {
      "text/plain": [
       "Row(artist='Martha Tilston', auth='Logged In', firstName='Colin', gender='M', itemInSession=50, lastName='Freeman', length=277.89016, level='paid', location='Bakersfield, CA', method='PUT', page='NextSong', registration=1538173362000, sessionId=29, song='Rockpools', status=200, ts=1538352117000, userAgent='Mozilla/5.0 (Windows NT 6.1; WOW64; rv:31.0) Gecko/20100101 Firefox/31.0', userId='30')"
      ]
     },
     "execution_count": 3,
     "metadata": {},
     "output_type": "execute_result"
    }
   ],
   "source": [
    "event_data = \"mini_sparkify_event_data.json\"\n",
    "df = spark.read.json(event_data)\n",
    "df.head()\n"
   ]
  },
  {
   "cell_type": "markdown",
   "metadata": {},
   "source": [
    "# Exploratory Data Analysis\n",
    "When you're working with the full dataset, perform EDA by loading a small subset of the data and doing basic manipulations within Spark. In this workspace, you are already provided a small subset of data you can explore.\n",
    "\n",
    "### Define Churn\n",
    "\n",
    "Once you've done some preliminary analysis, create a column `Churn` to use as the label for your model. I suggest using the `Cancellation Confirmation` events to define your churn, which happen for both paid and free users. As a bonus task, you can also look into the `Downgrade` events.\n",
    "\n",
    "### Explore Data\n",
    "Once you've defined churn, perform some exploratory data analysis to observe the behavior for users who stayed vs users who churned. You can start by exploring aggregates on these two groups of users, observing how much of a specific action they experienced per a certain time unit or number of songs played."
   ]
  },
  {
   "cell_type": "code",
   "execution_count": 4,
   "metadata": {},
   "outputs": [
    {
     "name": "stdout",
     "output_type": "stream",
     "text": [
      "(286500, 18)\n"
     ]
    }
   ],
   "source": [
    "print((df.count(), len(df.columns)))"
   ]
  },
  {
   "cell_type": "code",
   "execution_count": 5,
   "metadata": {},
   "outputs": [
    {
     "name": "stdout",
     "output_type": "stream",
     "text": [
      "root\n",
      " |-- artist: string (nullable = true)\n",
      " |-- auth: string (nullable = true)\n",
      " |-- firstName: string (nullable = true)\n",
      " |-- gender: string (nullable = true)\n",
      " |-- itemInSession: long (nullable = true)\n",
      " |-- lastName: string (nullable = true)\n",
      " |-- length: double (nullable = true)\n",
      " |-- level: string (nullable = true)\n",
      " |-- location: string (nullable = true)\n",
      " |-- method: string (nullable = true)\n",
      " |-- page: string (nullable = true)\n",
      " |-- registration: long (nullable = true)\n",
      " |-- sessionId: long (nullable = true)\n",
      " |-- song: string (nullable = true)\n",
      " |-- status: long (nullable = true)\n",
      " |-- ts: long (nullable = true)\n",
      " |-- userAgent: string (nullable = true)\n",
      " |-- userId: string (nullable = true)\n",
      "\n"
     ]
    }
   ],
   "source": [
    "df.printSchema()"
   ]
  },
  {
   "cell_type": "code",
   "execution_count": 6,
   "metadata": {},
   "outputs": [
    {
     "name": "stdout",
     "output_type": "stream",
     "text": [
      "+------+----+---------+------+-------------+--------+------+-----+--------+------+----+------------+---------+-----+------+---+---------+------+\n",
      "|artist|auth|firstName|gender|itemInSession|lastName|length|level|location|method|page|registration|sessionId| song|status| ts|userAgent|userId|\n",
      "+------+----+---------+------+-------------+--------+------+-----+--------+------+----+------------+---------+-----+------+---+---------+------+\n",
      "| 58392|   0|     8346|  8346|            0|    8346| 58392|    0|    8346|     0|   0|        8346|        0|58392|     0|  0|     8346|     0|\n",
      "+------+----+---------+------+-------------+--------+------+-----+--------+------+----+------------+---------+-----+------+---+---------+------+\n",
      "\n"
     ]
    }
   ],
   "source": [
    "df.select([count(when(isnull(c), c)).alias(c) for c in df.columns]).show()"
   ]
  },
  {
   "cell_type": "code",
   "execution_count": 7,
   "metadata": {},
   "outputs": [
    {
     "name": "stdout",
     "output_type": "stream",
     "text": [
      "+----------+\n",
      "|      auth|\n",
      "+----------+\n",
      "|Logged Out|\n",
      "| Cancelled|\n",
      "|     Guest|\n",
      "| Logged In|\n",
      "+----------+\n",
      "\n"
     ]
    }
   ],
   "source": [
    "df.select('auth').distinct().show()"
   ]
  },
  {
   "cell_type": "code",
   "execution_count": 8,
   "metadata": {},
   "outputs": [
    {
     "name": "stdout",
     "output_type": "stream",
     "text": [
      "+-----+\n",
      "|level|\n",
      "+-----+\n",
      "| free|\n",
      "| paid|\n",
      "+-----+\n",
      "\n"
     ]
    }
   ],
   "source": [
    "df.select('level').distinct().show()"
   ]
  },
  {
   "cell_type": "code",
   "execution_count": 9,
   "metadata": {},
   "outputs": [
    {
     "name": "stdout",
     "output_type": "stream",
     "text": [
      "+--------------------+\n",
      "|            location|\n",
      "+--------------------+\n",
      "|     Gainesville, FL|\n",
      "|Atlantic City-Ham...|\n",
      "|Deltona-Daytona B...|\n",
      "|San Diego-Carlsba...|\n",
      "|Cleveland-Elyria, OH|\n",
      "|Kingsport-Bristol...|\n",
      "|New Haven-Milford...|\n",
      "|Birmingham-Hoover...|\n",
      "|  Corpus Christi, TX|\n",
      "|         Dubuque, IA|\n",
      "|Las Vegas-Henders...|\n",
      "|Indianapolis-Carm...|\n",
      "|Seattle-Tacoma-Be...|\n",
      "|          Albany, OR|\n",
      "|   Winston-Salem, NC|\n",
      "|     Bakersfield, CA|\n",
      "|Los Angeles-Long ...|\n",
      "|Minneapolis-St. P...|\n",
      "|San Francisco-Oak...|\n",
      "|Phoenix-Mesa-Scot...|\n",
      "+--------------------+\n",
      "only showing top 20 rows\n",
      "\n"
     ]
    }
   ],
   "source": [
    "df.select('location').distinct().show()"
   ]
  },
  {
   "cell_type": "code",
   "execution_count": 10,
   "metadata": {},
   "outputs": [
    {
     "name": "stdout",
     "output_type": "stream",
     "text": [
      "+--------------------+\n",
      "|                page|\n",
      "+--------------------+\n",
      "|              Cancel|\n",
      "|    Submit Downgrade|\n",
      "|         Thumbs Down|\n",
      "|                Home|\n",
      "|           Downgrade|\n",
      "|         Roll Advert|\n",
      "|              Logout|\n",
      "|       Save Settings|\n",
      "|Cancellation Conf...|\n",
      "|               About|\n",
      "| Submit Registration|\n",
      "|            Settings|\n",
      "|               Login|\n",
      "|            Register|\n",
      "|     Add to Playlist|\n",
      "|          Add Friend|\n",
      "|            NextSong|\n",
      "|           Thumbs Up|\n",
      "|                Help|\n",
      "|             Upgrade|\n",
      "|               Error|\n",
      "|      Submit Upgrade|\n",
      "+--------------------+\n",
      "\n"
     ]
    }
   ],
   "source": [
    "df.select('page').distinct().show(50)"
   ]
  },
  {
   "cell_type": "markdown",
   "metadata": {},
   "source": [
    "Select only relevant columns and remove the others"
   ]
  },
  {
   "cell_type": "code",
   "execution_count": 11,
   "metadata": {},
   "outputs": [],
   "source": [
    "df_clean = df.select('artist','auth','firstName','gender','lastName','length','level','location','page','song','ts','userId')"
   ]
  },
  {
   "cell_type": "code",
   "execution_count": 12,
   "metadata": {},
   "outputs": [
    {
     "data": {
      "text/plain": [
       "52"
      ]
     },
     "execution_count": 12,
     "metadata": {},
     "output_type": "execute_result"
    }
   ],
   "source": [
    "df_clean.where((col(\"page\") == \"Cancellation Confirmation\")).select(\"userId\").distinct().count()"
   ]
  },
  {
   "cell_type": "code",
   "execution_count": 13,
   "metadata": {},
   "outputs": [
    {
     "name": "stdout",
     "output_type": "stream",
     "text": [
      "+------+---------+---------+------+---------+------+-----+--------------------+--------------------+----+-------------+------+\n",
      "|artist|     auth|firstName|gender| lastName|length|level|            location|                page|song|           ts|userId|\n",
      "+------+---------+---------+------+---------+------+-----+--------------------+--------------------+----+-------------+------+\n",
      "|  null|Cancelled|   Adriel|     M|  Mendoza|  null| paid|  Kansas City, MO-KS|Cancellation Conf...|null|1538943990000|    18|\n",
      "|  null|Cancelled|    Diego|     M|    Mckee|  null| paid|Phoenix-Mesa-Scot...|Cancellation Conf...|null|1539033046000|    32|\n",
      "|  null|Cancelled|    Mason|     M|     Hart|  null| free|  Corpus Christi, TX|Cancellation Conf...|null|1539318918000|   125|\n",
      "|  null|Cancelled|Alexander|     M|   Garcia|  null| paid|Indianapolis-Carm...|Cancellation Conf...|null|1539375441000|   105|\n",
      "|  null|Cancelled|    Kayla|     F|  Johnson|  null| paid|Philadelphia-Camd...|Cancellation Conf...|null|1539465584000|    17|\n",
      "|  null|Cancelled|    Molly|     F| Harrison|  null| free|Virginia Beach-No...|Cancellation Conf...|null|1539588854000|   143|\n",
      "|  null|Cancelled|     Alex|     M|    Hogan|  null| paid|Denver-Aurora-Lak...|Cancellation Conf...|null|1539729037000|   101|\n",
      "|  null|Cancelled|    Davis|     M|     Wang|  null| paid|           Flint, MI|Cancellation Conf...|null|1539736161000|   129|\n",
      "|  null|Cancelled|  Nikolas|     M|    Olsen|  null| paid|Oxnard-Thousand O...|Cancellation Conf...|null|1539759749000|   121|\n",
      "|  null|Cancelled|    Ethan|     M|  Johnson|  null| paid|Lexington-Fayette...|Cancellation Conf...|null|1539761972000|    51|\n",
      "|  null|Cancelled|Christian|     M| Robinson|  null| paid|       Quincy, IL-MO|Cancellation Conf...|null|1540050556000|    87|\n",
      "|  null|Cancelled|    Molly|     F|Patterson|  null| paid|   Memphis, TN-MS-AR|Cancellation Conf...|null|1540062068000|   122|\n",
      "|  null|Cancelled|   Sophia|     F|    Perry|  null| paid|Los Angeles-Long ...|Cancellation Conf...|null|1540193374000|    12|\n",
      "|  null|Cancelled|    Erick|     M|   Brooks|  null| paid|           Selma, AL|Cancellation Conf...|null|1540223006000|    58|\n",
      "|  null|Cancelled|   Rachel|     F|   Bailey|  null| paid|Albany-Schenectad...|Cancellation Conf...|null|1540402387000|    73|\n",
      "|  null|Cancelled|  Jeffery|     M|  Wheeler|  null| paid|         Bozeman, MT|Cancellation Conf...|null|1540875543000|     3|\n",
      "|  null|Cancelled|   Sophia|     F|      Key|  null| paid|Los Angeles-Long ...|Cancellation Conf...|null|1541166424000|   106|\n",
      "|  null|Cancelled|    Piper|     F|  Nielsen|  null| paid|New York-Newark-J...|Cancellation Conf...|null|1541340091000|   103|\n",
      "|  null|Cancelled|   Teagan|     F|  Roberts|  null| paid|New Philadelphia-...|Cancellation Conf...|null|1541463632000|    28|\n",
      "|  null|Cancelled|    Alexi|     F|   Warren|  null| paid|Spokane-Spokane V...|Cancellation Conf...|null|1542051608000|    54|\n",
      "+------+---------+---------+------+---------+------+-----+--------------------+--------------------+----+-------------+------+\n",
      "only showing top 20 rows\n",
      "\n"
     ]
    }
   ],
   "source": [
    "df_clean.filter(df_clean.auth==\"Cancelled\").show()"
   ]
  },
  {
   "cell_type": "code",
   "execution_count": 14,
   "metadata": {},
   "outputs": [],
   "source": [
    "churnedUsers = df_clean.filter(df_clean.auth==\"Cancelled\")"
   ]
  },
  {
   "cell_type": "code",
   "execution_count": 15,
   "metadata": {},
   "outputs": [
    {
     "data": {
      "text/plain": [
       "52"
      ]
     },
     "execution_count": 15,
     "metadata": {},
     "output_type": "execute_result"
    }
   ],
   "source": [
    "churnedUsers.select(\"userId\").distinct().count()"
   ]
  },
  {
   "cell_type": "code",
   "execution_count": 16,
   "metadata": {},
   "outputs": [
    {
     "data": {
      "text/plain": [
       "226"
      ]
     },
     "execution_count": 16,
     "metadata": {},
     "output_type": "execute_result"
    }
   ],
   "source": [
    "df_clean.select(\"userId\").distinct().count()"
   ]
  },
  {
   "cell_type": "markdown",
   "metadata": {},
   "source": [
    "We have 23% of Churned users in the mini dataset."
   ]
  },
  {
   "cell_type": "code",
   "execution_count": 17,
   "metadata": {},
   "outputs": [],
   "source": [
    "# Add column Churn\n",
    "df_churn = df_clean.groupby('userId').agg(collect_list('auth').alias(\"auths\"))\n",
    "churned = udf(lambda x: 'Cancelled' in x)\n",
    "df_churn = df_churn.withColumn(\"Churned\", churned(df_churn.auths))\n",
    "df_churn = df_churn.drop('auths')\n",
    "df_label = df_churn.join(df_clean,'userId')"
   ]
  },
  {
   "cell_type": "code",
   "execution_count": 18,
   "metadata": {},
   "outputs": [
    {
     "name": "stdout",
     "output_type": "stream",
     "text": [
      "+------+-------+--------------------+---------+---------+------+---------+---------+-----+--------------------+-----------+--------------------+-------------+\n",
      "|userId|Churned|              artist|     auth|firstName|gender| lastName|   length|level|            location|       page|                song|           ts|\n",
      "+------+-------+--------------------+---------+---------+------+---------+---------+-----+--------------------+-----------+--------------------+-------------+\n",
      "|100010|  false|Sleeping With Sirens|Logged In| Darianna|     F|Carpenter|202.97098| free|Bridgeport-Stamfo...|   NextSong|Captain Tyin Knot...|1539003534000|\n",
      "|100010|  false|Francesca Battist...|Logged In| Darianna|     F|Carpenter|196.54485| free|Bridgeport-Stamfo...|   NextSong|Beautiful_ Beauti...|1539003736000|\n",
      "|100010|  false|              Brutha|Logged In| Darianna|     F|Carpenter|263.13098| free|Bridgeport-Stamfo...|   NextSong|          She's Gone|1539003932000|\n",
      "|100010|  false|                null|Logged In| Darianna|     F|Carpenter|     null| free|Bridgeport-Stamfo...|  Thumbs Up|                null|1539003933000|\n",
      "|100010|  false|         Josh Ritter|Logged In| Darianna|     F|Carpenter|316.23791| free|Bridgeport-Stamfo...|   NextSong|      Folk Bloodbath|1539004195000|\n",
      "|100010|  false|               LMFAO|Logged In| Darianna|     F|Carpenter|183.74485| free|Bridgeport-Stamfo...|   NextSong|                 Yes|1539004511000|\n",
      "|100010|  false|         OneRepublic|Logged In| Darianna|     F|Carpenter|224.67873| free|Bridgeport-Stamfo...|   NextSong|             Secrets|1539004694000|\n",
      "|100010|  false|       Dwight Yoakam|Logged In| Darianna|     F|Carpenter| 239.3073| free|Bridgeport-Stamfo...|   NextSong|      You're The One|1539004918000|\n",
      "|100010|  false|                null|Logged In| Darianna|     F|Carpenter|     null| free|Bridgeport-Stamfo...|Roll Advert|                null|1539004961000|\n",
      "|100010|  false|      The Chordettes|Logged In| Darianna|     F|Carpenter|142.41914| free|Bridgeport-Stamfo...|   NextSong|          Mr Sandman|1539005157000|\n",
      "|100010|  false|Coko featuring Ki...|Logged In| Darianna|     F|Carpenter| 249.3122| free|Bridgeport-Stamfo...|   NextSong|           I Get Joy|1539005299000|\n",
      "|100010|  false|            The Cure|Logged In| Darianna|     F|Carpenter| 52.27057| free|Bridgeport-Stamfo...|   NextSong|     The Final Sound|1539005548000|\n",
      "|100010|  false|                null|Logged In| Darianna|     F|Carpenter|     null| free|Bridgeport-Stamfo...|Roll Advert|                null|1539005571000|\n",
      "|100010|  false|Kid Cudi Vs Crookers|Logged In| Darianna|     F|Carpenter|162.97751| free|Bridgeport-Stamfo...|   NextSong|        Day 'N' Nite|1539005600000|\n",
      "|100010|  false|                null|Logged In| Darianna|     F|Carpenter|     null| free|Bridgeport-Stamfo...|  Thumbs Up|                null|1539005601000|\n",
      "|100010|  false|            Yeasayer|Logged In| Darianna|     F|Carpenter|323.44771| free|Bridgeport-Stamfo...|   NextSong|                2080|1539005762000|\n",
      "|100010|  false|             Ben Lee|Logged In| Darianna|     F|Carpenter|245.78567| free|Bridgeport-Stamfo...|   NextSong|        Ache For You|1539006085000|\n",
      "|100010|  false|                null|Logged In| Darianna|     F|Carpenter|     null| free|Bridgeport-Stamfo...|Roll Advert|                null|1539006103000|\n",
      "|100010|  false|  ? & The Mysterians|Logged In| Darianna|     F|Carpenter|128.10404| free|Bridgeport-Stamfo...|   NextSong|    Just Like A Rose|1539006330000|\n",
      "|100010|  false|                null|Logged In| Darianna|     F|Carpenter|     null| free|Bridgeport-Stamfo...|Roll Advert|                null|1539006331000|\n",
      "+------+-------+--------------------+---------+---------+------+---------+---------+-----+--------------------+-----------+--------------------+-------------+\n",
      "only showing top 20 rows\n",
      "\n"
     ]
    }
   ],
   "source": [
    "df_label.show()"
   ]
  },
  {
   "cell_type": "code",
   "execution_count": 19,
   "metadata": {},
   "outputs": [
    {
     "data": {
      "text/plain": [
       "[Row(Churned='false', avg(length)=249.20913538880816),\n",
       " Row(Churned='true', avg(length)=248.63279564406218)]"
      ]
     },
     "execution_count": 19,
     "metadata": {},
     "output_type": "execute_result"
    }
   ],
   "source": [
    "df_label.groupby(\"Churned\").avg(\"length\").collect()"
   ]
  },
  {
   "cell_type": "code",
   "execution_count": 20,
   "metadata": {},
   "outputs": [
    {
     "data": {
      "text/plain": [
       "[Row(Churned='false', count=174), Row(Churned='true', count=52)]"
      ]
     },
     "execution_count": 20,
     "metadata": {},
     "output_type": "execute_result"
    }
   ],
   "source": [
    "df_label.select([\"userId\",\"Churned\"]).distinct().groupBy(\"Churned\").count().collect()"
   ]
  },
  {
   "cell_type": "code",
   "execution_count": 21,
   "metadata": {},
   "outputs": [
    {
     "name": "stdout",
     "output_type": "stream",
     "text": [
      "+------+-------+--------------------+---------+---------+------+--------+---------+-----+--------------------+--------+--------------------+-------------+\n",
      "|userId|Churned|              artist|     auth|firstName|gender|lastName|   length|level|            location|    page|                song|           ts|\n",
      "+------+-------+--------------------+---------+---------+------+--------+---------+-----+--------------------+--------+--------------------+-------------+\n",
      "|100003|   true|     Black Eyed Peas|Logged In|   Nevaeh|     F|   Jones|193.88036| free|Miami-Fort Lauder...|NextSong|          Gone Going|1539100420000|\n",
      "|100003|   true|            Paramore|Logged In|   Nevaeh|     F|   Jones|193.56689| free|Miami-Fort Lauder...|NextSong|All We Know (Albu...|1539100613000|\n",
      "|100003|   true| A Love Ends Suicide|Logged In|   Nevaeh|     F|   Jones|197.32853| free|Miami-Fort Lauder...|NextSong|     Heroes Of Faith|1539263080000|\n",
      "|100003|   true|               Stars|Logged In|   Nevaeh|     F|   Jones|246.38649| free|Miami-Fort Lauder...|NextSong|            Personal|1539263277000|\n",
      "|100003|   true|    Peter And Gordon|Logged In|   Nevaeh|     F|   Jones|158.22322| free|Miami-Fort Lauder...|NextSong|A Mess Of The Blu...|1539263523000|\n",
      "|100003|   true|            Coldplay|Logged In|   Nevaeh|     F|   Jones|274.41587| free|Miami-Fort Lauder...|NextSong|          One I Love|1539263681000|\n",
      "|100003|   true|        Mystery Jets|Logged In|   Nevaeh|     F|   Jones|207.90812| free|Miami-Fort Lauder...|NextSong|      Two Doors Down|1539263955000|\n",
      "|100003|   true|              Surkin|Logged In|   Nevaeh|     F|   Jones|237.29587| free|Miami-Fort Lauder...|NextSong|         Next of Kin|1539264162000|\n",
      "|100003|   true|          Alphaville|Logged In|   Nevaeh|     F|   Jones|285.43955| free|Miami-Fort Lauder...|NextSong|Big In Japan (Ori...|1539264399000|\n",
      "|100003|   true|Citizen Cope feat...|Logged In|   Nevaeh|     F|   Jones|244.11383| free|Miami-Fort Lauder...|NextSong|    Son's Gonna Rise|1539264684000|\n",
      "|100003|   true|        French Kicks|Logged In|   Nevaeh|     F|   Jones| 226.0371| free|Miami-Fort Lauder...|NextSong|Sunday Night Is Fair|1539264928000|\n",
      "|100003|   true|       Faith No More|Logged In|   Nevaeh|     F|   Jones|395.36281| free|Miami-Fort Lauder...|NextSong|          Jizzlobber|1539265154000|\n",
      "|100003|   true|                Gala|Logged In|   Nevaeh|     F|   Jones|235.44118| free|Miami-Fort Lauder...|NextSong|            Suddenly|1539265549000|\n",
      "|100003|   true|P. Diddy feat. Th...|Logged In|   Nevaeh|     F|   Jones|277.86404| free|Miami-Fort Lauder...|NextSong|All About The Ben...|1539265784000|\n",
      "|100003|   true|       Parkway Drive|Logged In|   Nevaeh|     F|   Jones| 48.56118| free|Miami-Fort Lauder...|NextSong|               Begin|1539266061000|\n",
      "|100003|   true|         Spice Girls|Logged In|   Nevaeh|     F|   Jones|271.59465| free|Miami-Fort Lauder...|NextSong|            Too Much|1539266109000|\n",
      "|100003|   true|       Kings Of Leon|Logged In|   Nevaeh|     F|   Jones|201.79546| free|Miami-Fort Lauder...|NextSong|             Revelry|1539266380000|\n",
      "|100003|   true|Jack Johnson / Ma...|Logged In|   Nevaeh|     F|   Jones|167.23546| free|Miami-Fort Lauder...|NextSong|             Lullaby|1539266581000|\n",
      "|100003|   true|       Tiziano Ferro|Logged In|   Nevaeh|     F|   Jones|251.42812| free|Miami-Fort Lauder...|NextSong|Ed Ero Contentissimo|1539266748000|\n",
      "|100003|   true|                Tiga|Logged In|   Nevaeh|     F|   Jones|196.46649| free|Miami-Fort Lauder...|NextSong|  Louder Than A Bomb|1539266999000|\n",
      "+------+-------+--------------------+---------+---------+------+--------+---------+-----+--------------------+--------+--------------------+-------------+\n",
      "only showing top 20 rows\n",
      "\n"
     ]
    }
   ],
   "source": [
    "df_label.filter((col('userId')==100003) & (col('song')!='null')).show()"
   ]
  },
  {
   "cell_type": "code",
   "execution_count": 22,
   "metadata": {},
   "outputs": [
    {
     "name": "stdout",
     "output_type": "stream",
     "text": [
      "+------+--------+\n",
      "|userId|ThumbsUp|\n",
      "+------+--------+\n",
      "|    10|      37|\n",
      "|   100|     148|\n",
      "|100001|       8|\n",
      "|100002|       5|\n",
      "|100003|       3|\n",
      "|100004|      35|\n",
      "|100005|       7|\n",
      "|100006|       2|\n",
      "|100007|      19|\n",
      "|100008|      37|\n",
      "|100009|      23|\n",
      "|100010|      17|\n",
      "|100012|      18|\n",
      "|100013|      39|\n",
      "|100014|      17|\n",
      "|100015|      35|\n",
      "|100016|      25|\n",
      "|100017|       2|\n",
      "|100018|      46|\n",
      "|100019|       1|\n",
      "+------+--------+\n",
      "only showing top 20 rows\n",
      "\n"
     ]
    }
   ],
   "source": [
    "#Number of Thumbs Up\n",
    "thumbsUp = df_label.where(df_label.page=='Thumbs Up').groupby(\"userId\").agg(count(col('page')).alias('ThumbsUp')).orderBy('userId')\n",
    "thumbsUp.show()"
   ]
  },
  {
   "cell_type": "code",
   "execution_count": 23,
   "metadata": {},
   "outputs": [
    {
     "name": "stdout",
     "output_type": "stream",
     "text": [
      "+------+----------+\n",
      "|userId|ThumbsDown|\n",
      "+------+----------+\n",
      "|    10|         4|\n",
      "|   100|        27|\n",
      "|100001|         2|\n",
      "|100004|        11|\n",
      "|100005|         3|\n",
      "|100006|         2|\n",
      "|100007|         6|\n",
      "|100008|         6|\n",
      "|100009|         8|\n",
      "|100010|         5|\n",
      "|100011|         1|\n",
      "|100012|         9|\n",
      "|100013|        15|\n",
      "|100014|         3|\n",
      "|100015|         8|\n",
      "|100016|         5|\n",
      "|100017|         1|\n",
      "|100018|         9|\n",
      "|100019|         1|\n",
      "|100021|         5|\n",
      "+------+----------+\n",
      "only showing top 20 rows\n",
      "\n"
     ]
    }
   ],
   "source": [
    "#Number of Thumbs down\n",
    "thumbsDown = df_label.where(df_label.page=='Thumbs Down').groupby(\"userId\").agg(count(col('page')).alias('ThumbsDown')).orderBy('userId')\n",
    "thumbsDown.show()"
   ]
  },
  {
   "cell_type": "code",
   "execution_count": 24,
   "metadata": {},
   "outputs": [],
   "source": [
    "allThumbs = thumbsUp.join(thumbsDown,'userId')"
   ]
  },
  {
   "cell_type": "code",
   "execution_count": 25,
   "metadata": {},
   "outputs": [
    {
     "name": "stdout",
     "output_type": "stream",
     "text": [
      "+------+-----------+\n",
      "|userId|SongsPlayed|\n",
      "+------+-----------+\n",
      "|    10|        673|\n",
      "|   100|       2682|\n",
      "|100001|        133|\n",
      "|100002|        195|\n",
      "|100003|         51|\n",
      "|100004|        942|\n",
      "|100005|        154|\n",
      "|100006|         26|\n",
      "|100007|        423|\n",
      "|100008|        772|\n",
      "|100009|        518|\n",
      "|100010|        275|\n",
      "|100011|         11|\n",
      "|100012|        476|\n",
      "|100013|       1131|\n",
      "|100014|        257|\n",
      "|100015|        800|\n",
      "|100016|        530|\n",
      "|100017|         52|\n",
      "|100018|       1002|\n",
      "+------+-----------+\n",
      "only showing top 20 rows\n",
      "\n"
     ]
    }
   ],
   "source": [
    "#Number of songs played\n",
    "songsPlayed = df_label.where(col('song')!='null').groupby(\"userId\").agg(count(col('song')).alias('SongsPlayed')).orderBy('userId')\n",
    "songsPlayed.show()"
   ]
  },
  {
   "cell_type": "code",
   "execution_count": 26,
   "metadata": {},
   "outputs": [],
   "source": [
    "df_features = df_churn.join(songsPlayed,'userId')"
   ]
  },
  {
   "cell_type": "code",
   "execution_count": 27,
   "metadata": {},
   "outputs": [],
   "source": [
    "df_features = df_features.join(allThumbs,'userId')"
   ]
  },
  {
   "cell_type": "code",
   "execution_count": 28,
   "metadata": {},
   "outputs": [
    {
     "name": "stdout",
     "output_type": "stream",
     "text": [
      "+------+-------------------+\n",
      "|userId|               Days|\n",
      "+------+-------------------+\n",
      "|100010|  44.21780092592593|\n",
      "|200002| 45.496805555555554|\n",
      "|   125|0.02053240740740741|\n",
      "|   124| 59.996944444444445|\n",
      "|    51| 15.779398148148148|\n",
      "|     7| 50.784050925925925|\n",
      "|    15|  54.77318287037037|\n",
      "|    54|  42.79719907407407|\n",
      "|   155|  25.82783564814815|\n",
      "|100014| 41.244363425925926|\n",
      "|   132|  50.49740740740741|\n",
      "|   154| 24.986458333333335|\n",
      "|   101| 15.861481481481482|\n",
      "|    11| 53.241585648148146|\n",
      "|   138|  56.07674768518518|\n",
      "|300017|  59.11390046296296|\n",
      "|100021| 45.457256944444445|\n",
      "|    29|  43.32092592592593|\n",
      "|    69|  50.98648148148148|\n",
      "|   112|  56.87869212962963|\n",
      "+------+-------------------+\n",
      "only showing top 20 rows\n",
      "\n"
     ]
    }
   ],
   "source": [
    "#No of days in Sparkify from column \"ts\"(length of session)\n",
    "days = df_label.groupby('userId').agg(((max(col('ts')) - min(col('ts')))/86400000).alias(\"Days\"))\n",
    "days.show()"
   ]
  },
  {
   "cell_type": "code",
   "execution_count": 29,
   "metadata": {},
   "outputs": [
    {
     "name": "stdout",
     "output_type": "stream",
     "text": [
      "+------+-------+-----------+--------+----------+------------------+\n",
      "|userId|Churned|SongsPlayed|ThumbsUp|ThumbsDown|              Days|\n",
      "+------+-------+-----------+--------+----------+------------------+\n",
      "|100010|  false|        275|      17|         5| 44.21780092592593|\n",
      "|200002|  false|        387|      21|         6|45.496805555555554|\n",
      "|   124|  false|       4079|     171|        41|59.996944444444445|\n",
      "|    51|   true|       2111|     100|        21|15.779398148148148|\n",
      "|     7|  false|        150|       7|         1|50.784050925925925|\n",
      "|    15|  false|       1914|      81|        14| 54.77318287037037|\n",
      "|    54|   true|       2841|     163|        29| 42.79719907407407|\n",
      "|   155|  false|        820|      58|         3| 25.82783564814815|\n",
      "|100014|   true|        257|      17|         3|41.244363425925926|\n",
      "|   132|  false|       1928|      96|        17| 50.49740740740741|\n",
      "|   101|   true|       1797|      86|        16|15.861481481481482|\n",
      "|    11|  false|        647|      40|         9|53.241585648148146|\n",
      "|   138|  false|       2070|      95|        24| 56.07674768518518|\n",
      "|300017|  false|       3632|     303|        28| 59.11390046296296|\n",
      "|100021|   true|        230|      11|         5|45.457256944444445|\n",
      "|    29|   true|       3028|     154|        22| 43.32092592592593|\n",
      "|    69|  false|       1125|      72|         9| 50.98648148148148|\n",
      "|   112|  false|        215|       9|         3| 56.87869212962963|\n",
      "|    42|  false|       3573|     166|        25| 60.08825231481482|\n",
      "|    73|   true|        377|      14|         7| 21.52954861111111|\n",
      "+------+-------+-----------+--------+----------+------------------+\n",
      "only showing top 20 rows\n",
      "\n"
     ]
    }
   ],
   "source": [
    "df_features = df_features.join(days, \"userId\")\n",
    "df_features.show()"
   ]
  },
  {
   "cell_type": "markdown",
   "metadata": {},
   "source": [
    "# Feature Engineering\n",
    "Once you've familiarized yourself with the data, build out the features you find promising to train your model on. To work with the full dataset, you can follow the following steps.\n",
    "- Write a script to extract the necessary features from the smaller subset of data\n",
    "- Ensure that your script is scalable, using the best practices discussed in Lesson 3\n",
    "- Try your script on the full data set, debugging your script if necessary\n",
    "\n",
    "If you are working in the classroom workspace, you can just extract features based on the small subset of data contained here. Be sure to transfer over this work to the larger dataset when you work on your Spark cluster."
   ]
  },
  {
   "cell_type": "code",
   "execution_count": 30,
   "metadata": {},
   "outputs": [],
   "source": [
    "upPerSong = udf(lambda numUp, songs: numUp/songs, FloatType())\n",
    "downPerSong = udf(lambda numDown, songs: numDown/songs, FloatType())\n",
    "songsPerHour = udf(lambda numSongs, numDays: numSongs/(numDays*24), FloatType())"
   ]
  },
  {
   "cell_type": "code",
   "execution_count": 31,
   "metadata": {},
   "outputs": [],
   "source": [
    "#Add 3 columns UpPerSong, DownPerSong and Songs PerHour\n",
    "df_features = df_features.withColumn(\"UpPerSong\", upPerSong(df_features.ThumbsUp, df_features.SongsPlayed))\n",
    "df_features = df_features.withColumn(\"DownPerSong\", downPerSong(df_features.ThumbsDown, df_features.SongsPlayed))\n",
    "df_features = df_features.withColumn(\"SongsPerHour\", songsPerHour(df_features.SongsPlayed, df_features.Days))"
   ]
  },
  {
   "cell_type": "code",
   "execution_count": 32,
   "metadata": {},
   "outputs": [
    {
     "name": "stdout",
     "output_type": "stream",
     "text": [
      "+------+-------+-----------+--------+----------+------------------+-----------+------------+------------+\n",
      "|userId|Churned|SongsPlayed|ThumbsUp|ThumbsDown|              Days|  UpPerSong| DownPerSong|SongsPerHour|\n",
      "+------+-------+-----------+--------+----------+------------------+-----------+------------+------------+\n",
      "|100010|  false|        275|      17|         5| 44.21780092592593|0.061818182| 0.018181818|  0.25913393|\n",
      "|200002|  false|        387|      21|         6|45.496805555555554|0.054263566| 0.015503876|  0.35442048|\n",
      "|   124|  false|       4079|     171|        41|59.996944444444445| 0.04192204| 0.010051483|   2.8327832|\n",
      "|    51|   true|       2111|     100|        21|15.779398148148148|0.047370914| 0.009947892|   5.5742517|\n",
      "|     7|  false|        150|       7|         1|50.784050925925925|0.046666667| 0.006666667| 0.123070136|\n",
      "|    15|  false|       1914|      81|        14| 54.77318287037037| 0.04231975|0.0073145246|   1.4560045|\n",
      "|    54|   true|       2841|     163|        29| 42.79719907407407|0.057374164| 0.010207674|    2.765952|\n",
      "|   155|  false|        820|      58|         3| 25.82783564814815| 0.07073171|0.0036585366|   1.3228621|\n",
      "|100014|   true|        257|      17|         3|41.244363425925926| 0.06614786|0.0116731515|  0.25963143|\n",
      "|   132|  false|       1928|      96|        17| 50.49740740740741|0.049792532| 0.008817428|   1.5908407|\n",
      "|   101|   true|       1797|      86|        16|15.861481481481482| 0.04785754| 0.008903729|   4.7205553|\n",
      "|    11|  false|        647|      40|         9|53.241585648148146|0.061823804| 0.013910355|   0.5063398|\n",
      "|   138|  false|       2070|      95|        24| 56.07674768518518| 0.04589372| 0.011594203|   1.5380707|\n",
      "|300017|  false|       3632|     303|        28| 59.11390046296296| 0.08342511|0.0077092513|   2.5600295|\n",
      "|100021|   true|        230|      11|         5|45.457256944444445|0.047826085|  0.02173913|  0.21082076|\n",
      "|    29|   true|       3028|     154|        22| 43.32092592592593|0.050858654|0.0072655217|   2.9123724|\n",
      "|    69|  false|       1125|      72|         9| 50.98648148148148|      0.064|       0.008|  0.91936135|\n",
      "|   112|  false|        215|       9|         3| 56.87869212962963|0.041860465| 0.013953488|  0.15749893|\n",
      "|    42|  false|       3573|     166|        25| 60.08825231481482| 0.04645956|0.0069969213|   2.4776058|\n",
      "|    73|   true|        377|      14|         7| 21.52954861111111|0.037135277| 0.018567638|   0.7296174|\n",
      "+------+-------+-----------+--------+----------+------------------+-----------+------------+------------+\n",
      "only showing top 20 rows\n",
      "\n"
     ]
    }
   ],
   "source": [
    "df_features.show()"
   ]
  },
  {
   "cell_type": "code",
   "execution_count": 33,
   "metadata": {},
   "outputs": [
    {
     "name": "stdout",
     "output_type": "stream",
     "text": [
      "+-------+------------------+\n",
      "|Churned| avg(SongsPerHour)|\n",
      "+-------+------------------+\n",
      "|  false|1.3289544926175187|\n",
      "|   true| 2.415751484163264|\n",
      "+-------+------------------+\n",
      "\n"
     ]
    }
   ],
   "source": [
    "df_features.select(\"SongsPerHour\", \"Churned\").groupby(\"Churned\").agg(avg(col('SongsPerHour'))).show()"
   ]
  },
  {
   "cell_type": "code",
   "execution_count": 34,
   "metadata": {},
   "outputs": [],
   "source": [
    "convertToInt = udf(lambda x: 1 if x==\"true\" else 0, IntegerType())\n",
    "df_features = df_features.withColumn('label', convertToInt(df_features.Churned))"
   ]
  },
  {
   "cell_type": "code",
   "execution_count": 35,
   "metadata": {},
   "outputs": [
    {
     "name": "stdout",
     "output_type": "stream",
     "text": [
      "+------+-------+-----------+--------+----------+------------------+-----------+------------+------------+-----+\n",
      "|userId|Churned|SongsPlayed|ThumbsUp|ThumbsDown|              Days|  UpPerSong| DownPerSong|SongsPerHour|label|\n",
      "+------+-------+-----------+--------+----------+------------------+-----------+------------+------------+-----+\n",
      "|100010|  false|        275|      17|         5| 44.21780092592593|0.061818182| 0.018181818|  0.25913393|    0|\n",
      "|200002|  false|        387|      21|         6|45.496805555555554|0.054263566| 0.015503876|  0.35442048|    0|\n",
      "|   124|  false|       4079|     171|        41|59.996944444444445| 0.04192204| 0.010051483|   2.8327832|    0|\n",
      "|    51|   true|       2111|     100|        21|15.779398148148148|0.047370914| 0.009947892|   5.5742517|    1|\n",
      "|     7|  false|        150|       7|         1|50.784050925925925|0.046666667| 0.006666667| 0.123070136|    0|\n",
      "|    15|  false|       1914|      81|        14| 54.77318287037037| 0.04231975|0.0073145246|   1.4560045|    0|\n",
      "|    54|   true|       2841|     163|        29| 42.79719907407407|0.057374164| 0.010207674|    2.765952|    1|\n",
      "|   155|  false|        820|      58|         3| 25.82783564814815| 0.07073171|0.0036585366|   1.3228621|    0|\n",
      "|100014|   true|        257|      17|         3|41.244363425925926| 0.06614786|0.0116731515|  0.25963143|    1|\n",
      "|   132|  false|       1928|      96|        17| 50.49740740740741|0.049792532| 0.008817428|   1.5908407|    0|\n",
      "|   101|   true|       1797|      86|        16|15.861481481481482| 0.04785754| 0.008903729|   4.7205553|    1|\n",
      "|    11|  false|        647|      40|         9|53.241585648148146|0.061823804| 0.013910355|   0.5063398|    0|\n",
      "|   138|  false|       2070|      95|        24| 56.07674768518518| 0.04589372| 0.011594203|   1.5380707|    0|\n",
      "|300017|  false|       3632|     303|        28| 59.11390046296296| 0.08342511|0.0077092513|   2.5600295|    0|\n",
      "|100021|   true|        230|      11|         5|45.457256944444445|0.047826085|  0.02173913|  0.21082076|    1|\n",
      "|    29|   true|       3028|     154|        22| 43.32092592592593|0.050858654|0.0072655217|   2.9123724|    1|\n",
      "|    69|  false|       1125|      72|         9| 50.98648148148148|      0.064|       0.008|  0.91936135|    0|\n",
      "|   112|  false|        215|       9|         3| 56.87869212962963|0.041860465| 0.013953488|  0.15749893|    0|\n",
      "|    42|  false|       3573|     166|        25| 60.08825231481482| 0.04645956|0.0069969213|   2.4776058|    0|\n",
      "|    73|   true|        377|      14|         7| 21.52954861111111|0.037135277| 0.018567638|   0.7296174|    1|\n",
      "+------+-------+-----------+--------+----------+------------------+-----------+------------+------------+-----+\n",
      "only showing top 20 rows\n",
      "\n"
     ]
    }
   ],
   "source": [
    "df_features.show()"
   ]
  },
  {
   "cell_type": "markdown",
   "metadata": {},
   "source": [
    "# Modeling\n",
    "Split the full dataset into train, test, and validation sets. Test out several of the machine learning methods you learned. Evaluate the accuracy of the various models, tuning parameters as necessary. Determine your winning model based on test accuracy and report results on the validation set. Since the churned users are a fairly small subset, I suggest using F1 score as the metric to optimize."
   ]
  },
  {
   "cell_type": "code",
   "execution_count": 36,
   "metadata": {},
   "outputs": [],
   "source": [
    "train, test = df_features.randomSplit([0.8, 0.2], seed=42)\n",
    "train, validation = train.randomSplit([0.8, 0.2], seed=42)"
   ]
  },
  {
   "cell_type": "code",
   "execution_count": 37,
   "metadata": {},
   "outputs": [],
   "source": [
    "df_features.columns\n",
    "\n",
    "input_cols = ['SongsPlayed',\n",
    " 'UpPerSong',\n",
    " 'DownPerSong',\n",
    " 'Days',\n",
    " 'SongsPerHour']\n",
    "\n",
    "assembler = VectorAssembler(inputCols=input_cols, outputCol=\"features\")\n",
    "scalar = MinMaxScaler(inputCol=\"features\", outputCol=\"scaled_features\")\n"
   ]
  },
  {
   "cell_type": "markdown",
   "metadata": {},
   "source": [
    "# Logisitic Regression "
   ]
  },
  {
   "cell_type": "code",
   "execution_count": 38,
   "metadata": {},
   "outputs": [
    {
     "name": "stdout",
     "output_type": "stream",
     "text": [
      "Accuracy for Logistic Regression Model is:  0.8387096774193549\n",
      "F1 score for Logistic Regression model is :  0.8298545224541429\n"
     ]
    }
   ],
   "source": [
    "lr =  LogisticRegression(labelCol=\"label\", featuresCol=\"scaled_features\", maxIter=10, regParam=0.0, elasticNetParam=0)\n",
    "\n",
    "pipeline_lr = Pipeline(stages=[assembler, scalar, lr])\n",
    "\n",
    "paramGrid = ParamGridBuilder() \\\n",
    "    .addGrid(lr.regParam,[0.0, 0.1]) \\\n",
    "    .build()\n",
    "\n",
    "crossval_lr = CrossValidator(estimator=pipeline_lr,\n",
    "                          estimatorParamMaps=paramGrid,\n",
    "                          evaluator=MulticlassClassificationEvaluator(),\n",
    "                          numFolds=3)\n",
    "cvModel_lr = crossval_lr.fit(train)\n",
    "cvModel_lr.avgMetrics\n",
    "results_lr = cvModel_lr.transform(test)\n",
    "print(\"Accuracy for Logistic Regression Model is: \", results_lr.filter(results_lr.label == results_lr.prediction).count()/ results_lr.count())\n",
    "evaluator = MulticlassClassificationEvaluator(metricName=\"f1\")\n",
    "score = evaluator.evaluate(results_lr)\n",
    "print(\"F1 score for Logistic Regression model is : \", score)"
   ]
  },
  {
   "cell_type": "markdown",
   "metadata": {},
   "source": [
    "For Logistic Regression, we performed grid search on regularization parameter with values of 0 and 0.1."
   ]
  },
  {
   "cell_type": "code",
   "execution_count": 39,
   "metadata": {},
   "outputs": [
    {
     "name": "stdout",
     "output_type": "stream",
     "text": [
      "The best performing regularization parameter is:  0.0\n"
     ]
    }
   ],
   "source": [
    "print(\"The best performing regularization parameter is: \", cvModel_lr.bestModel.stages[-1]._java_obj.parent().getRegParam())"
   ]
  },
  {
   "cell_type": "markdown",
   "metadata": {},
   "source": [
    "# Random Forest Classifier"
   ]
  },
  {
   "cell_type": "code",
   "execution_count": 40,
   "metadata": {},
   "outputs": [
    {
     "name": "stdout",
     "output_type": "stream",
     "text": [
      "Accuracy for Random Forest Model is:  0.8709677419354839\n",
      "F1 score for Random Forest Model is:  0.8604488078541375\n"
     ]
    }
   ],
   "source": [
    "rf = RandomForestClassifier(labelCol=\"label\", featuresCol=\"scaled_features\", numTrees=10)\n",
    "pipeline_rf = Pipeline(stages=[assembler, scalar, rf])\n",
    "\n",
    "\n",
    "paramGrid = ParamGridBuilder() \\\n",
    "    .addGrid(rf.numTrees,[5, 10]) \\\n",
    "    .build()\n",
    "\n",
    "crossval_rf = CrossValidator(estimator=pipeline_rf,\n",
    "                          estimatorParamMaps=paramGrid,\n",
    "                          evaluator=MulticlassClassificationEvaluator(),\n",
    "                          numFolds=3)\n",
    "\n",
    "cvModel_rf = crossval_rf.fit(train)\n",
    "cvModel_rf.avgMetrics\n",
    "results_rf = cvModel_rf.transform(test)\n",
    "print(\"Accuracy for Random Forest Model is: \", results_rf.filter(results_rf.label == results_rf.prediction).count()/ results_rf.count())\n",
    "\n",
    "evaluator = MulticlassClassificationEvaluator(metricName=\"f1\")\n",
    "score = evaluator.evaluate(results_rf)\n",
    "print(\"F1 score for Random Forest Model is: \", score)"
   ]
  },
  {
   "cell_type": "markdown",
   "metadata": {},
   "source": [
    "For Random Forest Classifier, we perform grid search on number of Trees with values of 5 and 10."
   ]
  },
  {
   "cell_type": "code",
   "execution_count": 41,
   "metadata": {},
   "outputs": [
    {
     "name": "stdout",
     "output_type": "stream",
     "text": [
      "The best value for number of trees is:  5\n"
     ]
    }
   ],
   "source": [
    "print(\"The best value for number of trees is: \", cvModel_rf.bestModel.stages[-1]._java_obj.parent().getNumTrees())"
   ]
  },
  {
   "cell_type": "markdown",
   "metadata": {},
   "source": [
    "# Gradient Boosting Tree Classifier"
   ]
  },
  {
   "cell_type": "code",
   "execution_count": 42,
   "metadata": {},
   "outputs": [
    {
     "name": "stdout",
     "output_type": "stream",
     "text": [
      "Accuracy for Gradient Boosting Tree Model is:  0.8064516129032258\n",
      "F1 score for Gradient Boosting Tree classifier is :  0.7770737327188941\n"
     ]
    }
   ],
   "source": [
    "gbt = GBTClassifier(labelCol=\"label\", featuresCol=\"scaled_features\", maxIter=10)\n",
    "pipeline_gbt = Pipeline(stages=[assembler, scalar, gbt])\n",
    "paramGrid = ParamGridBuilder() \\\n",
    "    .addGrid(gbt.maxIter,[5, 10]) \\\n",
    "    .build()\n",
    "crossval_gbt = CrossValidator(estimator=pipeline_gbt,\n",
    "                          estimatorParamMaps=paramGrid,\n",
    "                          evaluator=MulticlassClassificationEvaluator(),\n",
    "                          numFolds=3, collectSubModels=True)\n",
    "cvModel_gbt = crossval_gbt.fit(train)\n",
    "cvModel_gbt.avgMetrics\n",
    "results_gbt = cvModel_gbt.transform(test)\n",
    "print(\"Accuracy for Gradient Boosting Tree Model is: \", results_gbt.filter(results_gbt.label == results_gbt.prediction).count()/ results_gbt.count())\n",
    "\n",
    "evaluator = MulticlassClassificationEvaluator(metricName=\"f1\")\n",
    "score = evaluator.evaluate(results_gbt)\n",
    "print(\"F1 score for Gradient Boosting Tree classifier is : \", score)"
   ]
  },
  {
   "cell_type": "markdown",
   "metadata": {},
   "source": [
    "For Gradient Boosting Tree Classifier, we perform grid search on maximum number of iterations with values of 5 and 10."
   ]
  },
  {
   "cell_type": "code",
   "execution_count": 43,
   "metadata": {},
   "outputs": [
    {
     "name": "stdout",
     "output_type": "stream",
     "text": [
      "The best value for maximum number of iterations is:  5\n"
     ]
    }
   ],
   "source": [
    "print(\"The best value for maximum number of iterations is: \", cvModel_gbt.bestModel.stages[-1]._java_obj.parent().getMaxIter())"
   ]
  },
  {
   "cell_type": "markdown",
   "metadata": {},
   "source": [
    "Model Summary:\n",
    "Accuracy for Logistic Regression Model is:  0.8387096774193549.\n",
    "F1 score for Logistic Regression model is :  0.8298545224541429.\n",
    "\n",
    "Accuracy for Random Forest Model is:  0.8709677419354839\n",
    "F1 score for Random Forest Model is:  0.8604488078541375\n",
    "\n",
    "Accuracy for Gradient Boosting Tree Model is:  0.8064516129032258.\n",
    "F1 score for Gradient Boosting Tree classifier is :  0.7770737327188941.\n",
    "\n",
    "Random forest classifier is the best performing model amongst the three models selected as the F1 score is the highest.\n"
   ]
  },
  {
   "cell_type": "markdown",
   "metadata": {},
   "source": [
    "# Validating the model with different fold scores"
   ]
  },
  {
   "cell_type": "code",
   "execution_count": 44,
   "metadata": {},
   "outputs": [],
   "source": [
    "#Reference: https://stackoverflow.com/questions/38874546/spark-crossvalidatormodel-access-other-models-than-the-bestmodel/38874828#38874828\n",
    "\n",
    "import numpy as np\n",
    "\n",
    "from pyspark.ml.tuning import CrossValidator, CrossValidatorModel\n",
    "from pyspark.sql.functions import rand\n",
    "\n",
    "class CrossValidatorVerbose(CrossValidator):\n",
    "\n",
    "    def _fit(self, dataset):\n",
    "        est = self.getOrDefault(self.estimator)\n",
    "        epm = self.getOrDefault(self.estimatorParamMaps)\n",
    "        numModels = len(epm)\n",
    "\n",
    "        eva = self.getOrDefault(self.evaluator)\n",
    "        metricName = eva.getMetricName()\n",
    "\n",
    "        nFolds = self.getOrDefault(self.numFolds)\n",
    "        seed = self.getOrDefault(self.seed)\n",
    "        h = 1.0 / nFolds\n",
    "        \n",
    "        randCol = self.uid + \"_rand\"\n",
    "        df = dataset.select(\"*\", rand(seed).alias(randCol))\n",
    "        metrics = [0.0] * numModels\n",
    "\n",
    "        for i in range(nFolds):\n",
    "            foldNum = i + 1\n",
    "            print(\"Comparing models on fold %d\" % foldNum)\n",
    "\n",
    "            validateLB = i * h\n",
    "            validateUB = (i + 1) * h\n",
    "            condition = (df[randCol] >= validateLB) & (df[randCol] < validateUB)\n",
    "            validation = df.filter(condition)\n",
    "            train = df.filter(~condition)\n",
    "\n",
    "            for j in range(numModels):\n",
    "                paramMap = epm[j]\n",
    "                model = est.fit(train, paramMap)\n",
    "                # TODO: duplicate evaluator to take extra params from input\n",
    "                metric = eva.evaluate(model.transform(validation, paramMap))\n",
    "                metrics[j] += metric\n",
    "\n",
    "                avgSoFar = metrics[j] / foldNum\n",
    "                print(\"params: %s\\t%s: %f\\tavg so far: %f\" % (\n",
    "                    {param.name: val for (param, val) in paramMap.items()},\n",
    "                    metricName, metric, avgSoFar))\n",
    "\n",
    "        if eva.isLargerBetter():\n",
    "            bestIndex = np.argmax(metrics)\n",
    "        else:\n",
    "            bestIndex = np.argmin(metrics)\n",
    "\n",
    "        bestParams = epm[bestIndex]\n",
    "        bestModel = est.fit(dataset, bestParams)\n",
    "        avgMetrics = [m / nFolds for m in metrics]\n",
    "        bestAvg = avgMetrics[bestIndex]\n",
    "        print(\"Best model:\\nparams: %s\\t%s: %f\" % (\n",
    "            {param.name: val for (param, val) in bestParams.items()},\n",
    "            metricName, bestAvg))\n",
    "\n",
    "        return self._copyValues(CrossValidatorModel(bestModel, avgMetrics))\n"
   ]
  },
  {
   "cell_type": "code",
   "execution_count": 45,
   "metadata": {},
   "outputs": [
    {
     "name": "stdout",
     "output_type": "stream",
     "text": [
      "Comparing models on fold 1\n",
      "params: {'maxIter': 5}\tf1: 0.865166\tavg so far: 0.865166\n",
      "params: {'maxIter': 10}\tf1: 0.865166\tavg so far: 0.865166\n",
      "Comparing models on fold 2\n",
      "params: {'maxIter': 5}\tf1: 0.786364\tavg so far: 0.825765\n",
      "params: {'maxIter': 10}\tf1: 0.786364\tavg so far: 0.825765\n",
      "Comparing models on fold 3\n",
      "params: {'maxIter': 5}\tf1: 0.769625\tavg so far: 0.807052\n",
      "params: {'maxIter': 10}\tf1: 0.769625\tavg so far: 0.807052\n",
      "Best model:\n",
      "params: {'maxIter': 5}\tf1: 0.807052\n"
     ]
    },
    {
     "data": {
      "text/plain": [
       "CrossValidatorModel_e4f33d9cb772"
      ]
     },
     "execution_count": 45,
     "metadata": {},
     "output_type": "execute_result"
    }
   ],
   "source": [
    "model = CrossValidatorVerbose(estimator=pipeline_rf,\n",
    "                          estimatorParamMaps=paramGrid,\n",
    "                          evaluator=MulticlassClassificationEvaluator(),\n",
    "                          numFolds=3)\n",
    "model.fit(train)"
   ]
  },
  {
   "cell_type": "markdown",
   "metadata": {},
   "source": [
    "On the training data, we get an average F1 score of 0.807052"
   ]
  },
  {
   "cell_type": "markdown",
   "metadata": {},
   "source": [
    "# Calculating Feature Importances"
   ]
  },
  {
   "cell_type": "code",
   "execution_count": 46,
   "metadata": {},
   "outputs": [
    {
     "data": {
      "text/plain": [
       "<matplotlib.axes._subplots.AxesSubplot at 0x7f5d452adb38>"
      ]
     },
     "execution_count": 46,
     "metadata": {},
     "output_type": "execute_result"
    },
    {
     "data": {
      "image/png": "[encoded data removed]",
      "text/plain": [
       "<matplotlib.figure.Figure at 0x7f5d47382f28>"
      ]
     },
     "metadata": {
      "needs_background": "light"
     },
     "output_type": "display_data"
    }
   ],
   "source": [
    "feature_importances = cvModel_gbt.bestModel.stages[2].featureImportances.values.tolist()\n",
    "feature_importance_df = pd.DataFrame({'feature_importance': feature_importances, 'columns': input_cols})\n",
    "sns.barplot(x='feature_importance', y='columns', data=feature_importance_df)"
   ]
  },
  {
   "cell_type": "markdown",
   "metadata": {},
   "source": [
    "We can see that UpPerSong (thumbs up/no of songs) is the most important feature in predicting user churn. Other important features include Days (length of the sessions in days), and DownPerSong (thumbs down/no of songs) for a user."
   ]
  },
  {
   "cell_type": "markdown",
   "metadata": {},
   "source": [
    "# Final Steps\n",
    "Clean up your code, adding comments and renaming variables to make the code easier to read and maintain. Refer to the Spark Project Overview page and Data Scientist Capstone Project Rubric to make sure you are including all components of the capstone project and meet all expectations. Remember, this includes thorough documentation in a README file in a Github repository, as well as a web app or blog post."
   ]
  },
  {
   "cell_type": "markdown",
   "metadata": {},
   "source": [
    "\n",
    "Conclusion: \n",
    "To summarize our solution for the Sparkify Project, we execute the following steps:\n",
    "Load the dataset into and clean it\n",
    "Calculate features that help us model our solution\n",
    "Feed the newly calculated features into 3 machine learning algorithms. Find the best hyperparameters and the model amongst them\n",
    "Calculate the features that are most important in predicting user churn\n",
    "\n",
    "One of the interesting yet difficult things during the project is brainstroming the features that we can derived from the data we have on hand. Developing useful features is crucial to developing a good model, and requires a lot of energy and efforts.  \n",
    "Based on intuition I selected features which I thought would be useful in predicting churn.\n",
    "\n",
    "The features can be improved a lot after considering more factors, adding more domain knowledges and expertise. Other features that I could have used are:no of friends added, no of songs added to playlist etc.\n",
    "\n",
    "Also, currently I have used only a mini subset of the data set due to limitations of running the model on my laptop. If I use a bigger datset (using AWS or IBM Cloud), the model would be more accurate and robust."
   ]
  },
  {
   "cell_type": "code",
   "execution_count": 48,
   "metadata": {},
   "outputs": [
    {
     "data": {
      "text/plain": [
       "['[NbConvertApp] Converting notebook Sparkify.ipynb to html',\n",
       " '[NbConvertApp] Writing 396118 bytes to Sparkify.html',\n",
       " '[NbConvertApp] Converting notebook Sparkify-zh.ipynb to html',\n",
       " '[NbConvertApp] Writing 279513 bytes to Sparkify-zh.html']"
      ]
     },
     "execution_count": 48,
     "metadata": {},
     "output_type": "execute_result"
    }
   ],
   "source": [
    "!!jupyter nbconvert *.ipynb"
   ]
  },
  {
   "cell_type": "code",
   "execution_count": null,
   "metadata": {},
   "outputs": [],
   "source": []
  }
 ],
 "metadata": {
  "kernelspec": {
   "display_name": "Python 3",
   "language": "python",
   "name": "python3"
  },
  "language_info": {
   "codemirror_mode": {
    "name": "ipython",
    "version": 3
   },
   "file_extension": ".py",
   "mimetype": "text/x-python",
   "name": "python",
   "nbconvert_exporter": "python",
   "pygments_lexer": "ipython3",
   "version": "3.6.3"
  }
 },
 "nbformat": 4,
 "nbformat_minor": 2
}
